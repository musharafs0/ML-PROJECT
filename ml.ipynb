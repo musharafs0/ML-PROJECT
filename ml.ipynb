{
  "cells": [
    {
      "cell_type": "code",
      "execution_count": 3,
      "metadata": {
        "id": "Aje7V9JXAXK4"
      },
      "outputs": [],
      "source": [
        "import pandas as pd"
      ]
    },
    {
      "cell_type": "code",
      "execution_count": 4,
      "metadata": {
        "id": "82pt7iMxAZsm"
      },
      "outputs": [],
      "source": [
        "df=pd.read_csv(r\"C:\\Users\\Hp\\OneDrive\\Desktop\\mlp\\placementdata (1).csv\")"
      ]
    },
    {
      "cell_type": "code",
      "execution_count": 5,
      "metadata": {
        "colab": {
          "base_uri": "https://localhost:8080/",
          "height": 443
        },
        "id": "xN3mTEY6Anp2",
        "outputId": "79e83e91-e4a7-4900-b6f6-fb4c791cefba"
      },
      "outputs": [
        {
          "data": {
            "text/html": [
              "<div>\n",
              "<style scoped>\n",
              "    .dataframe tbody tr th:only-of-type {\n",
              "        vertical-align: middle;\n",
              "    }\n",
              "\n",
              "    .dataframe tbody tr th {\n",
              "        vertical-align: top;\n",
              "    }\n",
              "\n",
              "    .dataframe thead th {\n",
              "        text-align: right;\n",
              "    }\n",
              "</style>\n",
              "<table border=\"1\" class=\"dataframe\">\n",
              "  <thead>\n",
              "    <tr style=\"text-align: right;\">\n",
              "      <th></th>\n",
              "      <th>StudentID</th>\n",
              "      <th>CGPA</th>\n",
              "      <th>Internships</th>\n",
              "      <th>Projects</th>\n",
              "      <th>Workshops/Certifications</th>\n",
              "      <th>AptitudeTestScore</th>\n",
              "      <th>SoftSkillsRating</th>\n",
              "      <th>ExtracurricularActivities</th>\n",
              "      <th>PlacementTraining</th>\n",
              "      <th>SSC_Marks</th>\n",
              "      <th>HSC_Marks</th>\n",
              "      <th>PlacementStatus</th>\n",
              "    </tr>\n",
              "  </thead>\n",
              "  <tbody>\n",
              "    <tr>\n",
              "      <th>0</th>\n",
              "      <td>1</td>\n",
              "      <td>7.5</td>\n",
              "      <td>1</td>\n",
              "      <td>1</td>\n",
              "      <td>1</td>\n",
              "      <td>65</td>\n",
              "      <td>4.4</td>\n",
              "      <td>No</td>\n",
              "      <td>No</td>\n",
              "      <td>61</td>\n",
              "      <td>79</td>\n",
              "      <td>NotPlaced</td>\n",
              "    </tr>\n",
              "    <tr>\n",
              "      <th>1</th>\n",
              "      <td>2</td>\n",
              "      <td>8.9</td>\n",
              "      <td>0</td>\n",
              "      <td>3</td>\n",
              "      <td>2</td>\n",
              "      <td>90</td>\n",
              "      <td>4.0</td>\n",
              "      <td>Yes</td>\n",
              "      <td>Yes</td>\n",
              "      <td>78</td>\n",
              "      <td>82</td>\n",
              "      <td>Placed</td>\n",
              "    </tr>\n",
              "    <tr>\n",
              "      <th>2</th>\n",
              "      <td>3</td>\n",
              "      <td>7.3</td>\n",
              "      <td>1</td>\n",
              "      <td>2</td>\n",
              "      <td>2</td>\n",
              "      <td>82</td>\n",
              "      <td>4.8</td>\n",
              "      <td>Yes</td>\n",
              "      <td>No</td>\n",
              "      <td>79</td>\n",
              "      <td>80</td>\n",
              "      <td>NotPlaced</td>\n",
              "    </tr>\n",
              "    <tr>\n",
              "      <th>3</th>\n",
              "      <td>4</td>\n",
              "      <td>7.5</td>\n",
              "      <td>1</td>\n",
              "      <td>1</td>\n",
              "      <td>2</td>\n",
              "      <td>85</td>\n",
              "      <td>4.4</td>\n",
              "      <td>Yes</td>\n",
              "      <td>Yes</td>\n",
              "      <td>81</td>\n",
              "      <td>80</td>\n",
              "      <td>Placed</td>\n",
              "    </tr>\n",
              "    <tr>\n",
              "      <th>4</th>\n",
              "      <td>5</td>\n",
              "      <td>8.3</td>\n",
              "      <td>1</td>\n",
              "      <td>2</td>\n",
              "      <td>2</td>\n",
              "      <td>86</td>\n",
              "      <td>4.5</td>\n",
              "      <td>Yes</td>\n",
              "      <td>Yes</td>\n",
              "      <td>74</td>\n",
              "      <td>88</td>\n",
              "      <td>Placed</td>\n",
              "    </tr>\n",
              "    <tr>\n",
              "      <th>...</th>\n",
              "      <td>...</td>\n",
              "      <td>...</td>\n",
              "      <td>...</td>\n",
              "      <td>...</td>\n",
              "      <td>...</td>\n",
              "      <td>...</td>\n",
              "      <td>...</td>\n",
              "      <td>...</td>\n",
              "      <td>...</td>\n",
              "      <td>...</td>\n",
              "      <td>...</td>\n",
              "      <td>...</td>\n",
              "    </tr>\n",
              "    <tr>\n",
              "      <th>9995</th>\n",
              "      <td>9996</td>\n",
              "      <td>7.5</td>\n",
              "      <td>1</td>\n",
              "      <td>1</td>\n",
              "      <td>2</td>\n",
              "      <td>72</td>\n",
              "      <td>3.9</td>\n",
              "      <td>Yes</td>\n",
              "      <td>No</td>\n",
              "      <td>85</td>\n",
              "      <td>66</td>\n",
              "      <td>NotPlaced</td>\n",
              "    </tr>\n",
              "    <tr>\n",
              "      <th>9996</th>\n",
              "      <td>9997</td>\n",
              "      <td>7.4</td>\n",
              "      <td>0</td>\n",
              "      <td>1</td>\n",
              "      <td>0</td>\n",
              "      <td>90</td>\n",
              "      <td>4.8</td>\n",
              "      <td>No</td>\n",
              "      <td>No</td>\n",
              "      <td>84</td>\n",
              "      <td>67</td>\n",
              "      <td>Placed</td>\n",
              "    </tr>\n",
              "    <tr>\n",
              "      <th>9997</th>\n",
              "      <td>9998</td>\n",
              "      <td>8.4</td>\n",
              "      <td>1</td>\n",
              "      <td>3</td>\n",
              "      <td>0</td>\n",
              "      <td>70</td>\n",
              "      <td>4.8</td>\n",
              "      <td>Yes</td>\n",
              "      <td>Yes</td>\n",
              "      <td>79</td>\n",
              "      <td>81</td>\n",
              "      <td>Placed</td>\n",
              "    </tr>\n",
              "    <tr>\n",
              "      <th>9998</th>\n",
              "      <td>9999</td>\n",
              "      <td>8.9</td>\n",
              "      <td>0</td>\n",
              "      <td>3</td>\n",
              "      <td>2</td>\n",
              "      <td>87</td>\n",
              "      <td>4.8</td>\n",
              "      <td>Yes</td>\n",
              "      <td>Yes</td>\n",
              "      <td>71</td>\n",
              "      <td>85</td>\n",
              "      <td>Placed</td>\n",
              "    </tr>\n",
              "    <tr>\n",
              "      <th>9999</th>\n",
              "      <td>10000</td>\n",
              "      <td>8.4</td>\n",
              "      <td>0</td>\n",
              "      <td>1</td>\n",
              "      <td>1</td>\n",
              "      <td>66</td>\n",
              "      <td>3.8</td>\n",
              "      <td>No</td>\n",
              "      <td>No</td>\n",
              "      <td>62</td>\n",
              "      <td>66</td>\n",
              "      <td>NotPlaced</td>\n",
              "    </tr>\n",
              "  </tbody>\n",
              "</table>\n",
              "<p>10000 rows × 12 columns</p>\n",
              "</div>"
            ],
            "text/plain": [
              "      StudentID  CGPA  Internships  Projects  Workshops/Certifications  \\\n",
              "0             1   7.5            1         1                         1   \n",
              "1             2   8.9            0         3                         2   \n",
              "2             3   7.3            1         2                         2   \n",
              "3             4   7.5            1         1                         2   \n",
              "4             5   8.3            1         2                         2   \n",
              "...         ...   ...          ...       ...                       ...   \n",
              "9995       9996   7.5            1         1                         2   \n",
              "9996       9997   7.4            0         1                         0   \n",
              "9997       9998   8.4            1         3                         0   \n",
              "9998       9999   8.9            0         3                         2   \n",
              "9999      10000   8.4            0         1                         1   \n",
              "\n",
              "      AptitudeTestScore  SoftSkillsRating ExtracurricularActivities  \\\n",
              "0                    65               4.4                        No   \n",
              "1                    90               4.0                       Yes   \n",
              "2                    82               4.8                       Yes   \n",
              "3                    85               4.4                       Yes   \n",
              "4                    86               4.5                       Yes   \n",
              "...                 ...               ...                       ...   \n",
              "9995                 72               3.9                       Yes   \n",
              "9996                 90               4.8                        No   \n",
              "9997                 70               4.8                       Yes   \n",
              "9998                 87               4.8                       Yes   \n",
              "9999                 66               3.8                        No   \n",
              "\n",
              "     PlacementTraining  SSC_Marks  HSC_Marks PlacementStatus  \n",
              "0                   No         61         79       NotPlaced  \n",
              "1                  Yes         78         82          Placed  \n",
              "2                   No         79         80       NotPlaced  \n",
              "3                  Yes         81         80          Placed  \n",
              "4                  Yes         74         88          Placed  \n",
              "...                ...        ...        ...             ...  \n",
              "9995                No         85         66       NotPlaced  \n",
              "9996                No         84         67          Placed  \n",
              "9997               Yes         79         81          Placed  \n",
              "9998               Yes         71         85          Placed  \n",
              "9999                No         62         66       NotPlaced  \n",
              "\n",
              "[10000 rows x 12 columns]"
            ]
          },
          "execution_count": 5,
          "metadata": {},
          "output_type": "execute_result"
        }
      ],
      "source": [
        "df"
      ]
    },
    {
      "cell_type": "code",
      "execution_count": 6,
      "metadata": {
        "colab": {
          "base_uri": "https://localhost:8080/",
          "height": 460
        },
        "id": "Vi_rgzKTCRWE",
        "outputId": "57cf1422-2b39-470f-98b8-6a81118756f2"
      },
      "outputs": [
        {
          "data": {
            "text/plain": [
              "StudentID                    0\n",
              "CGPA                         0\n",
              "Internships                  0\n",
              "Projects                     0\n",
              "Workshops/Certifications     0\n",
              "AptitudeTestScore            0\n",
              "SoftSkillsRating             0\n",
              "ExtracurricularActivities    0\n",
              "PlacementTraining            0\n",
              "SSC_Marks                    0\n",
              "HSC_Marks                    0\n",
              "PlacementStatus              0\n",
              "dtype: int64"
            ]
          },
          "execution_count": 6,
          "metadata": {},
          "output_type": "execute_result"
        }
      ],
      "source": [
        "df.isna().sum()"
      ]
    },
    {
      "cell_type": "code",
      "execution_count": 7,
      "metadata": {
        "colab": {
          "base_uri": "https://localhost:8080/"
        },
        "id": "0ATybWmWCVei",
        "outputId": "b514c166-d51c-4005-b5f7-a40d875d6420"
      },
      "outputs": [
        {
          "data": {
            "text/plain": [
              "0"
            ]
          },
          "execution_count": 7,
          "metadata": {},
          "output_type": "execute_result"
        }
      ],
      "source": [
        "df.duplicated().sum()"
      ]
    },
    {
      "cell_type": "code",
      "execution_count": 8,
      "metadata": {
        "id": "BiUlc-GJCgH0"
      },
      "outputs": [],
      "source": [
        "df=df.drop(columns=[\"StudentID\"])"
      ]
    },
    {
      "cell_type": "code",
      "execution_count": 9,
      "metadata": {
        "colab": {
          "base_uri": "https://localhost:8080/",
          "height": 178
        },
        "id": "Oo2VS6GVjBeZ",
        "outputId": "c25a397a-614b-4da1-b2d6-5b86b47f2fb7"
      },
      "outputs": [
        {
          "data": {
            "text/plain": [
              "PlacementStatus\n",
              "NotPlaced    5803\n",
              "Placed       4197\n",
              "Name: count, dtype: int64"
            ]
          },
          "execution_count": 9,
          "metadata": {},
          "output_type": "execute_result"
        }
      ],
      "source": [
        "df[\"PlacementStatus\"].value_counts()"
      ]
    },
    {
      "cell_type": "code",
      "execution_count": 10,
      "metadata": {
        "colab": {
          "base_uri": "https://localhost:8080/",
          "height": 178
        },
        "id": "wZ3bI_VkCmnQ",
        "outputId": "ea4fe352-d8fc-48ec-b177-4850c5df1a6e"
      },
      "outputs": [
        {
          "data": {
            "text/plain": [
              "ExtracurricularActivities\n",
              "Yes    5854\n",
              "No     4146\n",
              "Name: count, dtype: int64"
            ]
          },
          "execution_count": 10,
          "metadata": {},
          "output_type": "execute_result"
        }
      ],
      "source": [
        "df[\"ExtracurricularActivities\"].value_counts()"
      ]
    },
    {
      "cell_type": "code",
      "execution_count": 11,
      "metadata": {
        "colab": {
          "base_uri": "https://localhost:8080/",
          "height": 178
        },
        "id": "-uA0M6OvCxrw",
        "outputId": "88531550-5b40-45b3-cbe4-ceba134b4350"
      },
      "outputs": [
        {
          "data": {
            "text/plain": [
              "PlacementTraining\n",
              "Yes    7318\n",
              "No     2682\n",
              "Name: count, dtype: int64"
            ]
          },
          "execution_count": 11,
          "metadata": {},
          "output_type": "execute_result"
        }
      ],
      "source": [
        "df[\"PlacementTraining\"].value_counts()"
      ]
    },
    {
      "cell_type": "code",
      "execution_count": 12,
      "metadata": {
        "colab": {
          "base_uri": "https://localhost:8080/"
        },
        "id": "cIgBxvvXDG3k",
        "outputId": "4a1aae77-d5cf-4c25-c6ed-eed0332c1113"
      },
      "outputs": [
        {
          "name": "stderr",
          "output_type": "stream",
          "text": [
            "C:\\Users\\Hp\\AppData\\Local\\Temp\\ipykernel_19840\\4003944705.py:1: FutureWarning: Downcasting behavior in `replace` is deprecated and will be removed in a future version. To retain the old behavior, explicitly call `result.infer_objects(copy=False)`. To opt-in to the future behavior, set `pd.set_option('future.no_silent_downcasting', True)`\n",
            "  df[\"PlacementStatus\"]=df[\"PlacementStatus\"].replace({\"Placed\":1,\"NotPlaced\":0})\n"
          ]
        }
      ],
      "source": [
        "df[\"PlacementStatus\"]=df[\"PlacementStatus\"].replace({\"Placed\":1,\"NotPlaced\":0})"
      ]
    },
    {
      "cell_type": "code",
      "execution_count": 13,
      "metadata": {
        "colab": {
          "base_uri": "https://localhost:8080/",
          "height": 178
        },
        "id": "EgrXMCd1DnNF",
        "outputId": "6483b91f-c9f6-4216-be1a-f2921343511c"
      },
      "outputs": [
        {
          "data": {
            "text/plain": [
              "PlacementStatus\n",
              "0    5803\n",
              "1    4197\n",
              "Name: count, dtype: int64"
            ]
          },
          "execution_count": 13,
          "metadata": {},
          "output_type": "execute_result"
        }
      ],
      "source": [
        "df[\"PlacementStatus\"].value_counts()"
      ]
    },
    {
      "cell_type": "code",
      "execution_count": 14,
      "metadata": {
        "id": "q5Ei69ZODvZN"
      },
      "outputs": [],
      "source": [
        "label=[\"PlacementTraining\",\"ExtracurricularActivities\"]"
      ]
    },
    {
      "cell_type": "code",
      "execution_count": 15,
      "metadata": {
        "id": "iuNPm0l-D8ur"
      },
      "outputs": [],
      "source": [
        "from sklearn.preprocessing import LabelEncoder\n",
        "le=LabelEncoder()"
      ]
    },
    {
      "cell_type": "code",
      "execution_count": 16,
      "metadata": {
        "id": "IVatlBZID5Hr"
      },
      "outputs": [],
      "source": [
        "for i in label:\n",
        "  df[i]=le.fit_transform(df[i])"
      ]
    },
    {
      "cell_type": "code",
      "execution_count": 17,
      "metadata": {
        "id": "0PsZbOnIEV1A"
      },
      "outputs": [],
      "source": [
        "x=df.drop(columns=[\"PlacementStatus\"])\n",
        "y=df[\"PlacementStatus\"]"
      ]
    },
    {
      "cell_type": "code",
      "execution_count": 18,
      "metadata": {
        "id": "5bC95fGPEPHy"
      },
      "outputs": [],
      "source": [
        "from sklearn.preprocessing import MinMaxScaler\n",
        "mm=MinMaxScaler()\n",
        "x_scaled=mm.fit_transform(x)\n"
      ]
    },
    {
      "cell_type": "code",
      "execution_count": 19,
      "metadata": {
        "id": "9StT-pRXEVQT"
      },
      "outputs": [],
      "source": [
        "from sklearn.model_selection import train_test_split\n",
        "x_train,x_test,y_train,y_test=train_test_split(x_scaled,y,test_size=0.2,random_state=42)"
      ]
    },
    {
      "cell_type": "code",
      "execution_count": 20,
      "metadata": {
        "colab": {
          "base_uri": "https://localhost:8080/"
        },
        "id": "9n9FeWM1EoQp",
        "outputId": "a8145890-f7be-4afe-85d6-c2de454b5287"
      },
      "outputs": [
        {
          "name": "stdout",
          "output_type": "stream",
          "text": [
            "DecisionTreeClassifier()\n",
            "---------------------\n",
            "Accuracy:0.726\n",
            "              precision    recall  f1-score   support\n",
            "\n",
            "           0       0.77      0.76      0.76      1172\n",
            "           1       0.67      0.68      0.67       828\n",
            "\n",
            "    accuracy                           0.73      2000\n",
            "   macro avg       0.72      0.72      0.72      2000\n",
            "weighted avg       0.73      0.73      0.73      2000\n",
            "\n",
            "[[890 282]\n",
            " [266 562]]\n",
            "Cross Validation Score:0.7115\n",
            "_________________________________________________\n",
            "KNeighborsClassifier()\n",
            "---------------------\n",
            "Accuracy:0.7705\n",
            "              precision    recall  f1-score   support\n",
            "\n",
            "           0       0.80      0.81      0.80      1172\n",
            "           1       0.73      0.72      0.72       828\n",
            "\n",
            "    accuracy                           0.77      2000\n",
            "   macro avg       0.76      0.76      0.76      2000\n",
            "weighted avg       0.77      0.77      0.77      2000\n",
            "\n",
            "[[947 225]\n",
            " [234 594]]\n",
            "Cross Validation Score:0.7651999999999999\n",
            "_________________________________________________\n",
            "SVC()\n",
            "---------------------\n",
            "Accuracy:0.7955\n",
            "              precision    recall  f1-score   support\n",
            "\n",
            "           0       0.83      0.82      0.83      1172\n",
            "           1       0.75      0.75      0.75       828\n",
            "\n",
            "    accuracy                           0.80      2000\n",
            "   macro avg       0.79      0.79      0.79      2000\n",
            "weighted avg       0.80      0.80      0.80      2000\n",
            "\n",
            "[[966 206]\n",
            " [203 625]]\n",
            "Cross Validation Score:0.787\n",
            "_________________________________________________\n",
            "GaussianNB()\n",
            "---------------------\n",
            "Accuracy:0.7935\n",
            "              precision    recall  f1-score   support\n",
            "\n",
            "           0       0.85      0.79      0.82      1172\n",
            "           1       0.73      0.80      0.76       828\n",
            "\n",
            "    accuracy                           0.79      2000\n",
            "   macro avg       0.79      0.79      0.79      2000\n",
            "weighted avg       0.80      0.79      0.79      2000\n",
            "\n",
            "[[925 247]\n",
            " [166 662]]\n",
            "Cross Validation Score:0.7954\n",
            "_________________________________________________\n"
          ]
        }
      ],
      "source": [
        "from sklearn.neighbors import KNeighborsClassifier\n",
        "from sklearn.svm import SVC\n",
        "from sklearn.naive_bayes import GaussianNB\n",
        "from sklearn.tree import DecisionTreeClassifier\n",
        "from sklearn.metrics import accuracy_score,classification_report,confusion_matrix\n",
        "models=[DecisionTreeClassifier(),KNeighborsClassifier(),SVC(),GaussianNB()]\n",
        "for model in models:\n",
        "  model.fit(x_train,y_train)\n",
        "  y_pred=model.predict(x_test)\n",
        "  print(model)\n",
        "  print(\"---------------------\")\n",
        "  print(f\"Accuracy:{accuracy_score(y_test,y_pred)}\")\n",
        "  print(classification_report(y_test,y_pred))\n",
        "  print(confusion_matrix(y_test,y_pred))\n",
        "  from sklearn.model_selection import cross_val_score\n",
        "  print(f\"Cross Validation Score:{cross_val_score(model,x,y,cv=5).mean()}\")\n",
        "  print(\"_________________________________________________\")\n"
      ]
    },
    {
      "cell_type": "code",
      "execution_count": 21,
      "metadata": {
        "id": "lWt0E5Ccjcf9"
      },
      "outputs": [],
      "source": [
        "#from sklearn.model_selection import GridSearchCV\n",
        "#dict1={'C': [0.1, 1, 10, 100],'kernel': ['linear', 'rbf', 'poly']}\n",
        "#tuner=GridSearchCV(estimator=SVC(), param_grid=dict1, cv=5)\n",
        "#tuner.fit(x_scaled,y)"
      ]
    },
    {
      "cell_type": "code",
      "execution_count": 22,
      "metadata": {
        "id": "lz63lrSHHzN0"
      },
      "outputs": [],
      "source": [
        "#tuner.best_params_"
      ]
    },
    {
      "cell_type": "code",
      "execution_count": 23,
      "metadata": {
        "id": "BC6WY6ETH2L0"
      },
      "outputs": [],
      "source": [
        "#tuner.best_score_"
      ]
    },
    {
      "cell_type": "code",
      "execution_count": 24,
      "metadata": {
        "id": "omdDm76sIAdI"
      },
      "outputs": [],
      "source": [
        "#tuner.best_estimator_"
      ]
    },
    {
      "cell_type": "code",
      "execution_count": 25,
      "metadata": {
        "id": "n-gvMANAIFF2"
      },
      "outputs": [],
      "source": [
        "#best_model=tuner.best_estimator_"
      ]
    },
    {
      "cell_type": "code",
      "execution_count": 26,
      "metadata": {
        "colab": {
          "base_uri": "https://localhost:8080/"
        },
        "id": "kVVDe7PTkIan",
        "outputId": "b8ae3b62-8728-4426-c1fc-911d8ba2eff0"
      },
      "outputs": [
        {
          "name": "stdout",
          "output_type": "stream",
          "text": [
            "0.8015\n",
            "              precision    recall  f1-score   support\n",
            "\n",
            "           0       0.83      0.83      0.83      1172\n",
            "           1       0.76      0.76      0.76       828\n",
            "\n",
            "    accuracy                           0.80      2000\n",
            "   macro avg       0.80      0.80      0.80      2000\n",
            "weighted avg       0.80      0.80      0.80      2000\n",
            "\n",
            "[[973 199]\n",
            " [198 630]]\n"
          ]
        }
      ],
      "source": [
        "final_model=SVC()\n",
        "final_model.fit(x_scaled,y)\n",
        "final_pred=final_model.predict(x_test)\n",
        "print(accuracy_score(y_test,final_pred))\n",
        "print(classification_report(y_test,final_pred))\n",
        "print(confusion_matrix(y_test,final_pred))\n"
      ]
    },
    {
      "cell_type": "code",
      "execution_count": 27,
      "metadata": {
        "id": "g2DO8G6WlORN"
      },
      "outputs": [],
      "source": [
        "dict1={\"encoder\":le,\"model\":final_model,\"scaler\":mm}"
      ]
    },
    {
      "cell_type": "code",
      "execution_count": 28,
      "metadata": {
        "id": "-mSTlagSlnDF"
      },
      "outputs": [],
      "source": [
        "import pickle\n",
        "with open('main.pkl','wb') as obj1:\n",
        "  pickle.dump(dict1,obj1)"
      ]
    }
  ],
  "metadata": {
    "accelerator": "GPU",
    "colab": {
      "gpuType": "T4",
      "provenance": []
    },
    "kernelspec": {
      "display_name": "Python 3",
      "name": "python3"
    },
    "language_info": {
      "codemirror_mode": {
        "name": "ipython",
        "version": 3
      },
      "file_extension": ".py",
      "mimetype": "text/x-python",
      "name": "python",
      "nbconvert_exporter": "python",
      "pygments_lexer": "ipython3",
      "version": "3.12.4"
    }
  },
  "nbformat": 4,
  "nbformat_minor": 0
}
